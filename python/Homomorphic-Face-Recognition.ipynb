{
 "cells": [
  {
   "cell_type": "markdown",
   "id": "activated-steering",
   "metadata": {},
   "source": [
    "# Requirements"
   ]
  },
  {
   "cell_type": "code",
   "execution_count": 2,
   "id": "blank-finding",
   "metadata": {},
   "outputs": [],
   "source": [
    "import tenseal as ts # pip install tenseal\n",
    "from deepface import DeepFace #!pip install deepface\n",
    "import base64\n",
    "from deepface.commons import distance as dst"
   ]
  },
  {
   "cell_type": "markdown",
   "id": "gorgeous-compatibility",
   "metadata": {},
   "source": [
    "# Finding embeddings\n",
    "\n",
    "We are going to find vector representations of facial images. This will be done in the client side."
   ]
  },
  {
   "cell_type": "code",
   "execution_count": 3,
   "id": "caroline-skating",
   "metadata": {},
   "outputs": [],
   "source": [
    "img1_path = \"deepface/tests/dataset/img1.jpg\"\n",
    "img2_path = \"deepface/tests/dataset/img2.jpg\""
   ]
  },
  {
   "cell_type": "code",
   "execution_count": 4,
   "id": "aging-brother",
   "metadata": {},
   "outputs": [],
   "source": [
    "img1_embedding = DeepFace.represent(img1_path, model_name = 'Facenet')\n",
    "img2_embedding = DeepFace.represent(img2_path, model_name = 'Facenet')"
   ]
  },
  {
   "cell_type": "markdown",
   "id": "specialized-cement",
   "metadata": {},
   "source": [
    "# Commons"
   ]
  },
  {
   "cell_type": "code",
   "execution_count": 5,
   "id": "indoor-record",
   "metadata": {},
   "outputs": [],
   "source": [
    "def write_data(file_name, data):\n",
    "    \n",
    "    if type(data) == bytes:\n",
    "        #bytes to base64\n",
    "        data = base64.b64encode(data)\n",
    "        \n",
    "    with open(file_name, 'wb') as f: \n",
    "        f.write(data)\n",
    "\n",
    "def read_data(file_name):\n",
    "    with open(file_name, \"rb\") as f:\n",
    "        data = f.read()\n",
    "    \n",
    "    #base64 to bytes\n",
    "    return base64.b64decode(data)"
   ]
  },
  {
   "cell_type": "markdown",
   "id": "animated-manufacturer",
   "metadata": {},
   "source": [
    "# Initialization\n",
    "\n",
    "We are going to generate secret - public key pair in this stage. This will be done in the client side."
   ]
  },
  {
   "cell_type": "code",
   "execution_count": 6,
   "id": "blessed-candy",
   "metadata": {},
   "outputs": [],
   "source": [
    "context = ts.context(\n",
    "            ts.SCHEME_TYPE.CKKS,\n",
    "            poly_modulus_degree = 8192,\n",
    "            coeff_mod_bit_sizes = [60, 40, 40, 60]\n",
    "          )\n",
    "\n",
    "context.generate_galois_keys()\n",
    "context.global_scale = 2**40"
   ]
  },
  {
   "cell_type": "code",
   "execution_count": 7,
   "id": "handled-integer",
   "metadata": {},
   "outputs": [],
   "source": [
    "secret_context = context.serialize(save_secret_key = True)\n",
    "write_data(\"secret.txt\", secret_context)"
   ]
  },
  {
   "cell_type": "code",
   "execution_count": 8,
   "id": "faced-algeria",
   "metadata": {},
   "outputs": [],
   "source": [
    "context.make_context_public() #drop the secret_key from the context\n",
    "public_context = context.serialize()\n",
    "write_data(\"public.txt\", public_context)"
   ]
  },
  {
   "cell_type": "code",
   "execution_count": 9,
   "id": "valid-clearing",
   "metadata": {},
   "outputs": [],
   "source": [
    "del context, secret_context, public_context"
   ]
  },
  {
   "cell_type": "markdown",
   "id": "appropriate-investing",
   "metadata": {},
   "source": [
    "# Encryption\n",
    "\n",
    "We are going to apply homomorphic encryption to facial embeddings. This will be done in the client side. \n",
    "\n",
    "Then, homomorphic encrypted facial embeddings will be stored in the cloud."
   ]
  },
  {
   "cell_type": "code",
   "execution_count": 10,
   "id": "promotional-harvest",
   "metadata": {},
   "outputs": [],
   "source": [
    "context = ts.context_from(read_data(\"secret.txt\"))"
   ]
  },
  {
   "cell_type": "code",
   "execution_count": 11,
   "id": "korean-provincial",
   "metadata": {},
   "outputs": [],
   "source": [
    "enc_v1 = ts.ckks_vector(context, img1_embedding)\n",
    "enc_v2 = ts.ckks_vector(context, img2_embedding)"
   ]
  },
  {
   "cell_type": "code",
   "execution_count": 12,
   "id": "affected-forum",
   "metadata": {},
   "outputs": [],
   "source": [
    "enc_v1_proto = enc_v1.serialize()\n",
    "enc_v2_proto = enc_v2.serialize()"
   ]
  },
  {
   "cell_type": "code",
   "execution_count": 13,
   "id": "adapted-boating",
   "metadata": {},
   "outputs": [],
   "source": [
    "write_data(\"enc_v1.txt\", enc_v1_proto)\n",
    "write_data(\"enc_v2.txt\", enc_v2_proto)"
   ]
  },
  {
   "cell_type": "code",
   "execution_count": 14,
   "id": "posted-farming",
   "metadata": {},
   "outputs": [],
   "source": [
    "del context, enc_v1, enc_v2, enc_v1_proto, enc_v2_proto"
   ]
  },
  {
   "cell_type": "markdown",
   "id": "stable-calibration",
   "metadata": {},
   "source": [
    "# Calculations\n",
    "\n",
    "Once homomorphic encrypted facial embeddings stored in the cloud, we are able to make calculations on encrypted data.\n",
    "\n",
    "Notice that we just have public key here and we don't have secret key."
   ]
  },
  {
   "cell_type": "code",
   "execution_count": 15,
   "id": "spoken-flour",
   "metadata": {},
   "outputs": [],
   "source": [
    "context = ts.context_from(read_data(\"public.txt\"))"
   ]
  },
  {
   "cell_type": "code",
   "execution_count": 16,
   "id": "moderate-situation",
   "metadata": {},
   "outputs": [],
   "source": [
    "enc_v1_proto = read_data(\"enc_v1.txt\")\n",
    "enc_v2_proto = read_data(\"enc_v2.txt\")"
   ]
  },
  {
   "cell_type": "code",
   "execution_count": 17,
   "id": "welsh-prescription",
   "metadata": {},
   "outputs": [],
   "source": [
    "enc_v1 = ts.lazy_ckks_vector_from(enc_v1_proto)\n",
    "enc_v1.link_context(context)\n",
    "\n",
    "enc_v2 = ts.lazy_ckks_vector_from(enc_v2_proto)\n",
    "enc_v2.link_context(context)"
   ]
  },
  {
   "cell_type": "code",
   "execution_count": 18,
   "id": "quick-elements",
   "metadata": {},
   "outputs": [],
   "source": [
    "euclidean_squared = enc_v1 - enc_v2\n",
    "euclidean_squared = euclidean_squared.dot(euclidean_squared)"
   ]
  },
  {
   "cell_type": "code",
   "execution_count": 19,
   "id": "guided-development",
   "metadata": {},
   "outputs": [],
   "source": [
    "write_data(\"euclidean_squared.txt\", euclidean_squared.serialize())"
   ]
  },
  {
   "cell_type": "code",
   "execution_count": 21,
   "id": "false-factory",
   "metadata": {},
   "outputs": [
    {
     "ename": "ValueError",
     "evalue": "the current context of the tensor doesn't hold a secret_key, please provide one as argument",
     "output_type": "error",
     "traceback": [
      "\u001b[0;31m---------------------------------------------------------------------------\u001b[0m",
      "\u001b[0;31mValueError\u001b[0m                                Traceback (most recent call last)",
      "\u001b[0;32m<ipython-input-21-e73759d63749>\u001b[0m in \u001b[0;36m<module>\u001b[0;34m\u001b[0m\n\u001b[1;32m      1\u001b[0m \u001b[0;31m#we must not decrypt the homomorphic encrypted euclidean squared value in this stage\u001b[0m\u001b[0;34m\u001b[0m\u001b[0;34m\u001b[0m\u001b[0;34m\u001b[0m\u001b[0m\n\u001b[1;32m      2\u001b[0m \u001b[0;31m#because we don't have the secret key. check this operation. it should throw an exception!\u001b[0m\u001b[0;34m\u001b[0m\u001b[0;34m\u001b[0m\u001b[0;34m\u001b[0m\u001b[0m\n\u001b[0;32m----> 3\u001b[0;31m \u001b[0meuclidean_squared\u001b[0m\u001b[0;34m.\u001b[0m\u001b[0mdecrypt\u001b[0m\u001b[0;34m(\u001b[0m\u001b[0;34m)\u001b[0m\u001b[0;34m\u001b[0m\u001b[0;34m\u001b[0m\u001b[0m\n\u001b[0m",
      "\u001b[0;32m~/opt/anaconda3/envs/sefik/lib/python3.8/site-packages/tenseal/tensors/ckksvector.py\u001b[0m in \u001b[0;36mdecrypt\u001b[0;34m(self, secret_key)\u001b[0m\n\u001b[1;32m     48\u001b[0m \u001b[0;34m\u001b[0m\u001b[0m\n\u001b[1;32m     49\u001b[0m     \u001b[0;32mdef\u001b[0m \u001b[0mdecrypt\u001b[0m\u001b[0;34m(\u001b[0m\u001b[0mself\u001b[0m\u001b[0;34m,\u001b[0m \u001b[0msecret_key\u001b[0m\u001b[0;34m:\u001b[0m \u001b[0;34m\"ts.enc_context.SecretKey\"\u001b[0m \u001b[0;34m=\u001b[0m \u001b[0;32mNone\u001b[0m\u001b[0;34m)\u001b[0m \u001b[0;34m->\u001b[0m \u001b[0mList\u001b[0m\u001b[0;34m[\u001b[0m\u001b[0mfloat\u001b[0m\u001b[0;34m]\u001b[0m\u001b[0;34m:\u001b[0m\u001b[0;34m\u001b[0m\u001b[0;34m\u001b[0m\u001b[0m\n\u001b[0;32m---> 50\u001b[0;31m         \u001b[0;32mreturn\u001b[0m \u001b[0mself\u001b[0m\u001b[0;34m.\u001b[0m\u001b[0m_decrypt\u001b[0m\u001b[0;34m(\u001b[0m\u001b[0msecret_key\u001b[0m\u001b[0;34m=\u001b[0m\u001b[0msecret_key\u001b[0m\u001b[0;34m)\u001b[0m\u001b[0;34m\u001b[0m\u001b[0;34m\u001b[0m\u001b[0m\n\u001b[0m\u001b[1;32m     51\u001b[0m \u001b[0;34m\u001b[0m\u001b[0m\n\u001b[1;32m     52\u001b[0m     \u001b[0;32mdef\u001b[0m \u001b[0msize\u001b[0m\u001b[0;34m(\u001b[0m\u001b[0mself\u001b[0m\u001b[0;34m)\u001b[0m \u001b[0;34m->\u001b[0m \u001b[0mint\u001b[0m\u001b[0;34m:\u001b[0m\u001b[0;34m\u001b[0m\u001b[0;34m\u001b[0m\u001b[0m\n",
      "\u001b[0;32m~/opt/anaconda3/envs/sefik/lib/python3.8/site-packages/tenseal/tensors/abstract_tensor.py\u001b[0m in \u001b[0;36m_decrypt\u001b[0;34m(self, secret_key)\u001b[0m\n\u001b[1;32m     83\u001b[0m     ) -> Union[ts._ts_cpp.PlainTensorDouble, ts._ts_cpp.PlainTensorInt64, List[float], List[int]]:\n\u001b[1;32m     84\u001b[0m         \u001b[0;32mif\u001b[0m \u001b[0msecret_key\u001b[0m \u001b[0;32mis\u001b[0m \u001b[0;32mNone\u001b[0m\u001b[0;34m:\u001b[0m\u001b[0;34m\u001b[0m\u001b[0;34m\u001b[0m\u001b[0m\n\u001b[0;32m---> 85\u001b[0;31m             \u001b[0;32mreturn\u001b[0m \u001b[0mself\u001b[0m\u001b[0;34m.\u001b[0m\u001b[0mdata\u001b[0m\u001b[0;34m.\u001b[0m\u001b[0mdecrypt\u001b[0m\u001b[0;34m(\u001b[0m\u001b[0;34m)\u001b[0m\u001b[0;34m\u001b[0m\u001b[0;34m\u001b[0m\u001b[0m\n\u001b[0m\u001b[1;32m     86\u001b[0m         \u001b[0;32melif\u001b[0m \u001b[0misinstance\u001b[0m\u001b[0;34m(\u001b[0m\u001b[0msecret_key\u001b[0m\u001b[0;34m,\u001b[0m \u001b[0mts\u001b[0m\u001b[0;34m.\u001b[0m\u001b[0menc_context\u001b[0m\u001b[0;34m.\u001b[0m\u001b[0mSecretKey\u001b[0m\u001b[0;34m)\u001b[0m\u001b[0;34m:\u001b[0m\u001b[0;34m\u001b[0m\u001b[0;34m\u001b[0m\u001b[0m\n\u001b[1;32m     87\u001b[0m             \u001b[0;32mreturn\u001b[0m \u001b[0mself\u001b[0m\u001b[0;34m.\u001b[0m\u001b[0mdata\u001b[0m\u001b[0;34m.\u001b[0m\u001b[0mdecrypt\u001b[0m\u001b[0;34m(\u001b[0m\u001b[0msecret_key\u001b[0m\u001b[0;34m.\u001b[0m\u001b[0mdata\u001b[0m\u001b[0;34m)\u001b[0m\u001b[0;34m\u001b[0m\u001b[0;34m\u001b[0m\u001b[0m\n",
      "\u001b[0;31mValueError\u001b[0m: the current context of the tensor doesn't hold a secret_key, please provide one as argument"
     ]
    }
   ],
   "source": [
    "#we must not decrypt the homomorphic encrypted euclidean squared value in this stage\n",
    "#because we don't have the secret key. check this operation. it should throw an exception!\n",
    "euclidean_squared.decrypt()"
   ]
  },
  {
   "cell_type": "code",
   "execution_count": 22,
   "id": "elegant-eclipse",
   "metadata": {},
   "outputs": [],
   "source": [
    "del context, enc_v1_proto, enc_v2_proto, enc_v1, enc_v2, euclidean_squared"
   ]
  },
  {
   "cell_type": "markdown",
   "id": "honey-window",
   "metadata": {},
   "source": [
    "# Decryption\n",
    "\n",
    "Once homomorphic encrypted euclidean squared value found in the cloud, we are going to retrieve it to the client side.\n",
    "\n",
    "Client can decrypt it because we have the secret key in the client side."
   ]
  },
  {
   "cell_type": "code",
   "execution_count": 23,
   "id": "labeled-string",
   "metadata": {},
   "outputs": [],
   "source": [
    "context = ts.context_from(read_data(\"secret.txt\"))"
   ]
  },
  {
   "cell_type": "code",
   "execution_count": 24,
   "id": "bound-notice",
   "metadata": {},
   "outputs": [],
   "source": [
    "euclidean_squared_proto = read_data(\"euclidean_squared.txt\")"
   ]
  },
  {
   "cell_type": "code",
   "execution_count": 25,
   "id": "ranging-network",
   "metadata": {},
   "outputs": [],
   "source": [
    "euclidean_squared = ts.lazy_ckks_vector_from(euclidean_squared_proto)\n",
    "euclidean_squared.link_context(context)"
   ]
  },
  {
   "cell_type": "code",
   "execution_count": 26,
   "id": "hairy-blade",
   "metadata": {},
   "outputs": [],
   "source": [
    "euclidean_squared_plain = euclidean_squared.decrypt()[0]"
   ]
  },
  {
   "cell_type": "code",
   "execution_count": 27,
   "id": "worst-skill",
   "metadata": {},
   "outputs": [
    {
     "data": {
      "text/plain": [
       "66.36774338377293"
      ]
     },
     "execution_count": 27,
     "metadata": {},
     "output_type": "execute_result"
    }
   ],
   "source": [
    "euclidean_squared_plain"
   ]
  },
  {
   "cell_type": "code",
   "execution_count": 28,
   "id": "behavioral-colombia",
   "metadata": {},
   "outputs": [
    {
     "name": "stdout",
     "output_type": "stream",
     "text": [
      "they are same person\n"
     ]
    }
   ],
   "source": [
    "if euclidean_squared_plain < 100:\n",
    "    print(\"they are same person\")\n",
    "else:\n",
    "    print(\"they are different persons\")"
   ]
  },
  {
   "cell_type": "markdown",
   "id": "empirical-disco",
   "metadata": {},
   "source": [
    "# Validation\n",
    "\n",
    "What if euclidean distance calculation is done in the client side always? Result should be same!"
   ]
  },
  {
   "cell_type": "code",
   "execution_count": 29,
   "id": "appropriate-mediterranean",
   "metadata": {},
   "outputs": [],
   "source": [
    "distance = dst.findEuclideanDistance(img1_embedding, img2_embedding)"
   ]
  },
  {
   "cell_type": "code",
   "execution_count": 30,
   "id": "lesbian-context",
   "metadata": {},
   "outputs": [
    {
     "name": "stdout",
     "output_type": "stream",
     "text": [
      "euclidean squared - tradational:  66.3677359167053\n",
      "euclidean squared - homomorphic:  66.36774338377293\n"
     ]
    }
   ],
   "source": [
    "print(\"euclidean squared - tradational: \", distance * distance)\n",
    "print(\"euclidean squared - homomorphic: \", euclidean_squared_plain)"
   ]
  },
  {
   "cell_type": "code",
   "execution_count": 37,
   "id": "smart-prerequisite",
   "metadata": {},
   "outputs": [
    {
     "data": {
      "text/plain": [
       "True"
      ]
     },
     "execution_count": 37,
     "metadata": {},
     "output_type": "execute_result"
    }
   ],
   "source": [
    "#check the difference is acceptable\n",
    "abs(distance * distance - euclidean_squared_plain) < 0.00001"
   ]
  }
 ],
 "metadata": {
  "kernelspec": {
   "display_name": "Python 3",
   "language": "python",
   "name": "python3"
  },
  "language_info": {
   "codemirror_mode": {
    "name": "ipython",
    "version": 3
   },
   "file_extension": ".py",
   "mimetype": "text/x-python",
   "name": "python",
   "nbconvert_exporter": "python",
   "pygments_lexer": "ipython3",
   "version": "3.8.5"
  }
 },
 "nbformat": 4,
 "nbformat_minor": 5
}
